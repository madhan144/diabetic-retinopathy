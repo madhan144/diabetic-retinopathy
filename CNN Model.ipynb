{
 "cells": [
  {
   "cell_type": "code",
   "execution_count": 0,
   "metadata": {
    "colab": {},
    "colab_type": "code",
    "id": "2JQQ4QzgUGvk"
   },
   "outputs": [],
   "source": [
    "from tensorflow import keras\n",
    "from tensorflow.keras.models import Sequential\n",
    "from tensorflow.keras.layers import Dense, Activation, Dropout, Flatten, Conv2D, MaxPooling2D\n",
    "from tensorflow.keras.layers import BatchNormalization\n",
    "from tensorflow.keras.layers import LeakyReLU\n",
    "from tensorflow.keras.utils import to_categorical\n",
    "import pandas as pd\n",
    "import numpy as np\n",
    "import os\n",
    "import cv2"
   ]
  },
  {
   "cell_type": "code",
   "execution_count": 0,
   "metadata": {
    "colab": {},
    "colab_type": "code",
    "id": "-JeCfhsbVY8o"
   },
   "outputs": [],
   "source": [
    "tr_img=np.load('/content/drive/My Drive/gb_train.npy')"
   ]
  },
  {
   "cell_type": "code",
   "execution_count": 0,
   "metadata": {
    "colab": {
     "base_uri": "https://localhost:8080/",
     "height": 35
    },
    "colab_type": "code",
    "id": "3laMqNtYdFhh",
    "outputId": "9d79ccab-161f-4999-c3f9-66a0c911dbb1"
   },
   "outputs": [
    {
     "data": {
      "text/plain": [
       "(3662, 224, 224, 3)"
      ]
     },
     "execution_count": 104,
     "metadata": {
      "tags": []
     },
     "output_type": "execute_result"
    }
   ],
   "source": [
    "tr_img.shape"
   ]
  },
  {
   "cell_type": "code",
   "execution_count": 0,
   "metadata": {
    "colab": {},
    "colab_type": "code",
    "id": "Q7pfyeGUQfvd"
   },
   "outputs": [],
   "source": [
    "trcr_img=np.load('/content/drive/My Drive/clahe_train.npy')"
   ]
  },
  {
   "cell_type": "code",
   "execution_count": 0,
   "metadata": {
    "colab": {},
    "colab_type": "code",
    "id": "yt5K_uebVpKm"
   },
   "outputs": [],
   "source": [
    "df=pd.read_csv(\"/content/drive/My Drive/train.csv\")"
   ]
  },
  {
   "cell_type": "code",
   "execution_count": 0,
   "metadata": {
    "colab": {},
    "colab_type": "code",
    "id": "gWXFzJKeH6vm"
   },
   "outputs": [],
   "source": [
    "y_train=np.load('/content/drive/My Drive/y_train.npy')"
   ]
  },
  {
   "cell_type": "code",
   "execution_count": 0,
   "metadata": {
    "colab": {},
    "colab_type": "code",
    "id": "2U2P4k00Ks7Y"
   },
   "outputs": [],
   "source": [
    "model = Sequential()\n",
    "model.add(Conv2D(32,kernel_size=(3, 3),input_shape=(224,224,3),activation='relu'))\n",
    "model.add(MaxPooling2D(pool_size=(2, 2)))\n",
    "model.add(Conv2D(32,kernel_size=(3, 3),activation='relu'))\n",
    "model.add(MaxPooling2D((2,2), strides=(2,2)))\n",
    "model.add(Conv2D(64,kernel_size=(3, 3),activation='relu'))\n",
    "model.add(MaxPooling2D((2,2), strides=(2,2)))\n",
    "model.add(Conv2D(128, kernel_size=(3, 3),activation='relu'))\n",
    "model.add(MaxPooling2D((2,2), strides=(2,2)))\n",
    "model.add(Flatten())\n",
    "model.add(Dense(4096, activation='relu'))\n",
    "model.add(Dropout(0.5))\n",
    "model.add(Dense(1024, activation='relu'))\n",
    "model.add(Dropout(0.5))\n",
    "model.add(Dense(5, activation='softmax'))"
   ]
  },
  {
   "cell_type": "code",
   "execution_count": 0,
   "metadata": {
    "colab": {},
    "colab_type": "code",
    "id": "N1ZPMeoFPw_f"
   },
   "outputs": [],
   "source": [
    "batch_size=100\n",
    "epochs=20"
   ]
  },
  {
   "cell_type": "code",
   "execution_count": 0,
   "metadata": {
    "colab": {
     "base_uri": "https://localhost:8080/",
     "height": 660
    },
    "colab_type": "code",
    "id": "vALIE_mDSwRo",
    "outputId": "db377ede-2f3a-48de-d3cf-fcccc1f1d231"
   },
   "outputs": [
    {
     "name": "stdout",
     "output_type": "stream",
     "text": [
      "Model: \"sequential_3\"\n",
      "_________________________________________________________________\n",
      "Layer (type)                 Output Shape              Param #   \n",
      "=================================================================\n",
      "conv2d_12 (Conv2D)           (None, 222, 222, 32)      896       \n",
      "_________________________________________________________________\n",
      "max_pooling2d_10 (MaxPooling (None, 111, 111, 32)      0         \n",
      "_________________________________________________________________\n",
      "conv2d_13 (Conv2D)           (None, 109, 109, 32)      9248      \n",
      "_________________________________________________________________\n",
      "max_pooling2d_11 (MaxPooling (None, 54, 54, 32)        0         \n",
      "_________________________________________________________________\n",
      "conv2d_14 (Conv2D)           (None, 52, 52, 64)        18496     \n",
      "_________________________________________________________________\n",
      "max_pooling2d_12 (MaxPooling (None, 26, 26, 64)        0         \n",
      "_________________________________________________________________\n",
      "conv2d_15 (Conv2D)           (None, 24, 24, 128)       73856     \n",
      "_________________________________________________________________\n",
      "max_pooling2d_13 (MaxPooling (None, 12, 12, 128)       0         \n",
      "_________________________________________________________________\n",
      "flatten_2 (Flatten)          (None, 18432)             0         \n",
      "_________________________________________________________________\n",
      "dense_6 (Dense)              (None, 4096)              75501568  \n",
      "_________________________________________________________________\n",
      "dropout_4 (Dropout)          (None, 4096)              0         \n",
      "_________________________________________________________________\n",
      "dense_7 (Dense)              (None, 1024)              4195328   \n",
      "_________________________________________________________________\n",
      "dropout_5 (Dropout)          (None, 1024)              0         \n",
      "_________________________________________________________________\n",
      "dense_8 (Dense)              (None, 5)                 5125      \n",
      "=================================================================\n",
      "Total params: 79,804,517\n",
      "Trainable params: 79,804,517\n",
      "Non-trainable params: 0\n",
      "_________________________________________________________________\n"
     ]
    }
   ],
   "source": [
    "model.summary()"
   ]
  },
  {
   "cell_type": "code",
   "execution_count": 0,
   "metadata": {
    "colab": {},
    "colab_type": "code",
    "id": "OPRGKjXbKs_Z"
   },
   "outputs": [],
   "source": [
    "model.compile(loss=keras.losses.categorical_crossentropy, optimizer='adam', metrics=['accuracy'])\n"
   ]
  },
  {
   "cell_type": "code",
   "execution_count": 0,
   "metadata": {
    "colab": {
     "base_uri": "https://localhost:8080/",
     "height": 767
    },
    "colab_type": "code",
    "id": "68BZjHoHPghg",
    "outputId": "47d44e7f-e145-41c0-a178-db40ff10a509"
   },
   "outputs": [
    {
     "name": "stdout",
     "output_type": "stream",
     "text": [
      "Train on 2929 samples, validate on 733 samples\n",
      "Epoch 1/20\n",
      "2929/2929 [==============================] - 6s 2ms/sample - loss: 35.0205 - acc: 0.5442 - val_loss: 0.8250 - val_acc: 0.7108\n",
      "Epoch 2/20\n",
      "2929/2929 [==============================] - 5s 2ms/sample - loss: 0.8164 - acc: 0.7129 - val_loss: 0.7690 - val_acc: 0.7340\n",
      "Epoch 3/20\n",
      "2929/2929 [==============================] - 5s 2ms/sample - loss: 0.7371 - acc: 0.7316 - val_loss: 0.8165 - val_acc: 0.7244\n",
      "Epoch 4/20\n",
      "2929/2929 [==============================] - 5s 2ms/sample - loss: 0.7085 - acc: 0.7409 - val_loss: 0.7297 - val_acc: 0.7449\n",
      "Epoch 5/20\n",
      "2929/2929 [==============================] - 5s 2ms/sample - loss: 0.6460 - acc: 0.7559 - val_loss: 0.7160 - val_acc: 0.7490\n",
      "Epoch 6/20\n",
      "2929/2929 [==============================] - 5s 2ms/sample - loss: 0.6009 - acc: 0.7723 - val_loss: 0.7013 - val_acc: 0.7626\n",
      "Epoch 7/20\n",
      "2929/2929 [==============================] - 5s 2ms/sample - loss: 0.5248 - acc: 0.8074 - val_loss: 0.7541 - val_acc: 0.7408\n",
      "Epoch 8/20\n",
      "2929/2929 [==============================] - 5s 2ms/sample - loss: 0.5012 - acc: 0.8115 - val_loss: 0.7828 - val_acc: 0.7435\n",
      "Epoch 9/20\n",
      "2929/2929 [==============================] - 5s 2ms/sample - loss: 0.4297 - acc: 0.8395 - val_loss: 0.7372 - val_acc: 0.7503\n",
      "Epoch 10/20\n",
      "2929/2929 [==============================] - 5s 2ms/sample - loss: 0.3713 - acc: 0.8607 - val_loss: 0.8158 - val_acc: 0.7422\n",
      "Epoch 11/20\n",
      "2929/2929 [==============================] - 5s 2ms/sample - loss: 0.3324 - acc: 0.8819 - val_loss: 0.8330 - val_acc: 0.7422\n",
      "Epoch 12/20\n",
      "2929/2929 [==============================] - 5s 2ms/sample - loss: 0.3057 - acc: 0.8836 - val_loss: 0.8944 - val_acc: 0.7449\n",
      "Epoch 13/20\n",
      "2929/2929 [==============================] - 5s 2ms/sample - loss: 0.2502 - acc: 0.9126 - val_loss: 0.9647 - val_acc: 0.7490\n",
      "Epoch 14/20\n",
      "2929/2929 [==============================] - 5s 2ms/sample - loss: 0.2295 - acc: 0.9239 - val_loss: 1.0108 - val_acc: 0.7381\n",
      "Epoch 15/20\n",
      "2929/2929 [==============================] - 5s 2ms/sample - loss: 0.1791 - acc: 0.9420 - val_loss: 1.0278 - val_acc: 0.7312\n",
      "Epoch 16/20\n",
      "2929/2929 [==============================] - 5s 2ms/sample - loss: 0.1242 - acc: 0.9580 - val_loss: 1.1377 - val_acc: 0.7271\n",
      "Epoch 17/20\n",
      "2929/2929 [==============================] - 5s 2ms/sample - loss: 0.1255 - acc: 0.9607 - val_loss: 1.2365 - val_acc: 0.7326\n",
      "Epoch 18/20\n",
      "2929/2929 [==============================] - 5s 2ms/sample - loss: 0.1040 - acc: 0.9665 - val_loss: 1.2920 - val_acc: 0.7531\n",
      "Epoch 19/20\n",
      "2929/2929 [==============================] - 6s 2ms/sample - loss: 0.0836 - acc: 0.9778 - val_loss: 1.2887 - val_acc: 0.7476\n",
      "Epoch 20/20\n",
      "2929/2929 [==============================] - 5s 2ms/sample - loss: 0.0978 - acc: 0.9764 - val_loss: 1.3893 - val_acc: 0.7408\n"
     ]
    },
    {
     "data": {
      "text/plain": [
       "<tensorflow.python.keras.callbacks.History at 0x7f9b04608a58>"
      ]
     },
     "execution_count": 93,
     "metadata": {
      "tags": []
     },
     "output_type": "execute_result"
    }
   ],
   "source": [
    "model.fit(tr_img, y_train,\n",
    "              batch_size=batch_size,\n",
    "            epochs=epochs,validation_split=0.2)"
   ]
  },
  {
   "cell_type": "code",
   "execution_count": 0,
   "metadata": {
    "colab": {
     "base_uri": "https://localhost:8080/",
     "height": 35
    },
    "colab_type": "code",
    "id": "lNgc5k2hP6RQ",
    "outputId": "f9dc882f-fdbf-41e1-8123-8d729685b4d0"
   },
   "outputs": [
    {
     "data": {
      "text/plain": [
       "[0.3227315138779267, 0.9347351]"
      ]
     },
     "execution_count": 94,
     "metadata": {
      "tags": []
     },
     "output_type": "execute_result"
    }
   ],
   "source": [
    "model.evaluate(tr_img, y_train, verbose=0)"
   ]
  },
  {
   "cell_type": "code",
   "execution_count": 0,
   "metadata": {
    "colab": {},
    "colab_type": "code",
    "id": "ysQgA4gUROPD"
   },
   "outputs": [],
   "source": [
    "model.save('/content/drive/My Drive/GB_CNN.model')"
   ]
  }
 ],
 "metadata": {
  "accelerator": "GPU",
  "colab": {
   "name": "Diabetic Retinopathy.ipynb",
   "provenance": []
  },
  "kernelspec": {
   "display_name": "Python 3",
   "language": "python",
   "name": "python3"
  },
  "language_info": {
   "codemirror_mode": {
    "name": "ipython",
    "version": 3
   },
   "file_extension": ".py",
   "mimetype": "text/x-python",
   "name": "python",
   "nbconvert_exporter": "python",
   "pygments_lexer": "ipython3",
   "version": "3.7.3"
  }
 },
 "nbformat": 4,
 "nbformat_minor": 1
}
